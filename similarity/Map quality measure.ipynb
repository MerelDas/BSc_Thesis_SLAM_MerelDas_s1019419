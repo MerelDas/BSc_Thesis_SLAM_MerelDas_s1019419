{
 "cells": [
  {
   "cell_type": "markdown",
   "metadata": {},
   "source": [
    "# Resize and binarize images"
   ]
  },
  {
   "cell_type": "code",
   "execution_count": 3,
   "metadata": {
    "scrolled": true
   },
   "outputs": [],
   "source": [
    "import cv2\n",
    "from matplotlib import pyplot as plt\n",
    "import numpy as np\n",
    "import os.path\n",
    "#names of all layouts and values of all stddevs for laser noise\n",
    "layouts = [\"base_square\", \"half_square\", \"long_hallway\"]#[\"apartment\", \"base_square\", \"blocks\", \"cafe\", \"complicated_noGaps\", \"cubicles\", \"half_half\", \"half_square\", \"just_blocks\", \"long_hallway\", \"office\", \"quarter_maze\", \"simple_maze\", \"simple_offices\", \"small_office\", \"three_hallways\", \"triangle\", \"weird_shapes\", \"circles\", \"meeting_room\"]\n",
    "stddevs = [\"00\", \"01\", \"03\", \"05\", \"10\", \"20\"]\n",
    "\n",
    "for layout in layouts:\n",
    "    for stddev in stddevs:\n",
    "        if(os.path.isfile('Downloads/' + layout + stddev + '.png')): #check if map exists\n",
    "            img1 = cv2.imread('Downloads/' + layout + 'g.png') #load ground truth map\n",
    "            img2 = cv2.imread('Downloads/' + layout + stddev + '.png') #load slam map\n",
    "            \n",
    "            #convert color to grayscale for binarization later on\n",
    "            truth_gray = cv2.cvtColor(img1,cv2.COLOR_BGR2GRAY)\n",
    "            slam_gray = cv2.cvtColor(img2,cv2.COLOR_BGR2GRAY)\n",
    "            \n",
    "            #resize slam map to same dimensions as ground truth map\n",
    "            (H, W) = truth_gray.shape\n",
    "            slam_gray = cv2.resize(slam_gray, (W, H))\n",
    "            #save resized map\n",
    "            cv2.imwrite(r'Downloads/' + layout + stddev + '.png', slam_gray)\n",
    "\n",
    "            #binarization of slam maps\n",
    "            ret, imgf = cv2.threshold(slam_gray, 127, 255, cv2.THRESH_BINARY)\n",
    "            cv2.imwrite(r'Downloads/bin-' + layout + stddev + '.png', imgf)\n",
    "        else:\n",
    "            print('file: Downloads/' + layout + stddev + '.png does not exist')\n",
    "            \n",
    "    #binarization of ground truth maps\n",
    "    ret, imgf = cv2.threshold(slam_gray, 127, 255, cv2.THRESH_BINARY)\n",
    "    cv2.imwrite(r'Downloads/bin-' + layout + '-g.png', imgf)"
   ]
  },
  {
   "cell_type": "markdown",
   "metadata": {},
   "source": [
    "# Calculate average scores"
   ]
  },
  {
   "cell_type": "code",
   "execution_count": null,
   "metadata": {},
   "outputs": [],
   "source": [
    "import numpy as np\n",
    "#names of all layouts and values of all stddevs for laser noise\n",
    "layouts = [\"apartment\", \"base_square\", \"blocks\", \"cafe\", \"complicated_noGaps\", \"cubicles\", \"half_half\", \"half_square\", \"just_blocks\", \"long_hallway\", \"office\", \"quarter_maze\", \"simple_maze\", \"simple_offices\", \"small_office\", \"three_hallways\", \"triangle\", \"weird_shapes\", \"circles\", \"meeting_room\"]\n",
    "stddevs = [\"00\", \"01\", \"03\", \"05\", \"10\", \"20\"]\n",
    "\n",
    "# create arrays to save the quality scores per metric per stddev\n",
    "for stddev in stddevs:\n",
    "    stddev_ssim_arrayName = 'ssim_' + stddev + '_scores'\n",
    "    stddev_fsim_arrayName = 'fsim_' + stddev + '_scores'\n",
    "    globals()[stddev_ssim_arrayName] = []\n",
    "    globals()[stddev_fsim_arrayName] = []\n",
    "#create arrays to save the quality scores per metric per layout\n",
    "for layout in layouts:\n",
    "    layout_ssim_arrayName = 'ssim_' + layout + '_scores'\n",
    "    layout_fsim_arrayName = 'fsim_' + layout + '_scores'\n",
    "    globals()[layout_ssim_arrayName] = []\n",
    "    globals()[layout_fsim_arrayName] = []\n",
    "    \n",
    "#loop through all saved quality scores and save in arrays\n",
    "with open('Downloads/similarities.txt') as file:\n",
    "    for line in file:\n",
    "        splitLine = line.split()\n",
    "        #save in array per stddev\n",
    "        arrayName = str(splitLine[0]) + '_' + str(splitLine[1]) + '_scores'\n",
    "        globals()[arrayName].append(str(splitLine[3]))\n",
    "        #save in array per layout\n",
    "        arrayName2 = str(splitLine[0]) + '_' + str(splitLine[2]) + '_scores'\n",
    "        globals()[arrayName2].append(str(splitLine[3]))\n",
    "\n",
    "#convert string values to int in arrays\n",
    "for stddev in stddevs:\n",
    "    stddev_ssim_arrayName = 'ssim_' + stddev + '_scores'\n",
    "    stddev_fsim_arrayName = 'fsim_' + stddev + '_scores'\n",
    "    globals()[stddev_ssim_arrayName] = list(map(float, globals()[stddev_ssim_arrayName]))\n",
    "    globals()[stddev_fsim_arrayName] = list(map(float, globals()[stddev_fsim_arrayName]))\n",
    "#ssim_00_scores = list(map(float, ssim_00_scores))\n",
    "for layout in layouts:\n",
    "    layout_ssim_arrayName = 'ssim_' + layout + '_scores'\n",
    "    layout_fsim_arrayName = 'fsim_' + layout + '_scores'\n",
    "    globals()[layout_ssim_arrayName] = list(map(float, globals()[layout_ssim_arrayName]))\n",
    "    globals()[layout_fsim_arrayName] = list(map(float, globals()[layout_fsim_arrayName]))\n",
    "#ssim_circles_scores = list(map(float, ssim_circ_scores))\n",
    "\n",
    "#print mean and stddev of scores per noise level and layout\n",
    "for stddev in stddevs:\n",
    "    stddev_ssim_arrayName = 'ssim_' + stddev + '_scores'\n",
    "    stddev_fsim_arrayName = 'fsim_' + stddev + '_scores'\n",
    "    print('ssim_' + stddev + ' mean: ', np.mean(globals()[stddev_ssim_arrayName]))\n",
    "    print('ssim_' + stddev + ' stddev: ', np.std(globals()[stddev_ssim_arrayName]))\n",
    "    print('fsim_' + stddev + ' mean: ', np.mean(globals()[stddev_fsim_arrayName]))\n",
    "    print('fsim_' + stddev + ' stddev: ', np.std(globals()[stddev_fsim_arrayName]))\n",
    "#print(\"ssim_00 mean: \", np.mean(ssim_00_scores))\n",
    "#print(\"ssim_00 stddev: \", np.std(ssim_00_scores))\n",
    "print(\"\\n\")\n",
    "for layout in layouts:\n",
    "    layout_ssim_arrayName = 'ssim_' + layout + '_scores'\n",
    "    layout_fsim_arrayName = 'fsim_' + layout + '_scores'\n",
    "    print('ssim_' + layout + ' mean: ', np.mean(globals()[layout_ssim_arrayName]))\n",
    "    print('ssim_' + layout + ' stddev: ', np.std(globals()[layout_ssim_arrayName]))\n",
    "    print('fsim_' + layout + ' mean: ', np.mean(globals()[layout_fsim_arrayName]))\n",
    "    print('fsim_' + layout + ' stddev: ', np.std(globals()[layout_fsim_arrayName]))\n"
   ]
  }
 ],
 "metadata": {
  "kernelspec": {
   "display_name": "Python 3",
   "language": "python",
   "name": "python3"
  },
  "language_info": {
   "codemirror_mode": {
    "name": "ipython",
    "version": 3
   },
   "file_extension": ".py",
   "mimetype": "text/x-python",
   "name": "python",
   "nbconvert_exporter": "python",
   "pygments_lexer": "ipython3",
   "version": "3.6.5"
  },
  "varInspector": {
   "cols": {
    "lenName": 16,
    "lenType": 16,
    "lenVar": 40
   },
   "kernels_config": {
    "python": {
     "delete_cmd_postfix": "",
     "delete_cmd_prefix": "del ",
     "library": "var_list.py",
     "varRefreshCmd": "print(var_dic_list())"
    },
    "r": {
     "delete_cmd_postfix": ") ",
     "delete_cmd_prefix": "rm(",
     "library": "var_list.r",
     "varRefreshCmd": "cat(var_dic_list()) "
    }
   },
   "types_to_exclude": [
    "module",
    "function",
    "builtin_function_or_method",
    "instance",
    "_Feature"
   ],
   "window_display": false
  }
 },
 "nbformat": 4,
 "nbformat_minor": 4
}
